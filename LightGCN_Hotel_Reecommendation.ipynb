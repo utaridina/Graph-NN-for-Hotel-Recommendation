{
  "nbformat": 4,
  "nbformat_minor": 0,
  "metadata": {
    "colab": {
      "provenance": []
    },
    "kernelspec": {
      "name": "python3",
      "display_name": "Python 3"
    },
    "language_info": {
      "name": "python"
    }
  },
  "cells": [
    {
      "cell_type": "code",
      "execution_count": null,
      "metadata": {
        "id": "mqr2owzjUYsw"
      },
      "outputs": [],
      "source": [
        "pip install -U LibRecommender"
      ]
    },
    {
      "cell_type": "code",
      "source": [
        "pip install git+https://github.com/massquantity/LibRecommender.git"
      ],
      "metadata": {
        "id": "8_VlhZe9UZRf"
      },
      "execution_count": null,
      "outputs": []
    },
    {
      "cell_type": "code",
      "source": [
        "!git clone https://github.com/massquantity/LibRecommender.git"
      ],
      "metadata": {
        "id": "652vkl4ZUauE"
      },
      "execution_count": null,
      "outputs": []
    },
    {
      "cell_type": "code",
      "source": [
        "cd LibRecommender"
      ],
      "metadata": {
        "id": "m3kaYQNeUcA3"
      },
      "execution_count": null,
      "outputs": []
    },
    {
      "cell_type": "code",
      "source": [
        "pip install -e . -vv"
      ],
      "metadata": {
        "id": "zeM7SnJUUde4"
      },
      "execution_count": null,
      "outputs": []
    },
    {
      "cell_type": "code",
      "source": [
        "import numpy as np\n",
        "import pandas as pd\n",
        "from libreco.data import random_split, DatasetPure\n",
        "from libreco.algorithms import LightGCN # pure data, algorithm\n",
        "LightGCN\n",
        "from libreco.evaluation import evaluate\n",
        "from io import StringIO"
      ],
      "metadata": {
        "id": "AkFXW5T0UeuT"
      },
      "execution_count": null,
      "outputs": []
    },
    {
      "cell_type": "code",
      "source": [
        "url = \"/content/data asli.csv\""
      ],
      "metadata": {
        "id": "iP_cM2M4UgXQ"
      },
      "execution_count": null,
      "outputs": []
    },
    {
      "cell_type": "code",
      "source": [
        "data = pd.read_csv(url, encoding= 'unicode_escape', sep=\",\",\n",
        "names=[\"user\", \"item\", \"label\"])\n",
        "data"
      ],
      "metadata": {
        "id": "7ZIr-bMHUiAR"
      },
      "execution_count": null,
      "outputs": []
    },
    {
      "cell_type": "code",
      "source": [
        "# split whole data into three folds for training, evaluating and\n",
        "testing\n",
        "train_data, eval_data, test_data = random_split(data,\n",
        "multi_ratios=[0.8, 0.1, 0.1])\n",
        "train_data, data_info = DatasetPure.build_trainset(train_data)\n",
        "eval_data = DatasetPure.build_evalset(eval_data)\n",
        "test_data = DatasetPure.build_testset(test_data)\n",
        "print(data_info)"
      ],
      "metadata": {
        "id": "HLpNwRXtUj3N"
      },
      "execution_count": null,
      "outputs": []
    },
    {
      "cell_type": "code",
      "source": [
        "lightgcn = LightGCN(\n",
        "task=\"ranking\",\n",
        "data_info=data_info,\n",
        "loss_type=\"bpr\",\n",
        "embed_size=512,\n",
        "n_epochs=100,\n",
        "lr=5e-4,\n",
        "batch_size=200,\n",
        "num_neg=2,\n",
        "device=\"cuda\",\n",
        "reg=1e-4)"
      ],
      "metadata": {
        "id": "6LSNih2bUlmL"
      },
      "execution_count": null,
      "outputs": []
    },
    {
      "cell_type": "code",
      "source": [
        "# monitor metrics on eval data during training\n",
        "model = lightgcn.fit(\n",
        "train_data,\n",
        "neg_sampling=True,\n",
        "verbose=2,\n",
        "eval_data=eval_data,\n",
        "metrics=[\"loss\", \"roc_auc\", \"precision\", \"recall\", \"ndcg\"]\n",
        ")"
      ],
      "metadata": {
        "id": "TruB678VUqcD"
      },
      "execution_count": null,
      "outputs": []
    },
    {
      "cell_type": "code",
      "source": [
        "# do final evaluation on test data\n",
        "evaluate(\n",
        "model=lightgcn,\n",
        "data=test_data,\n",
        "neg_sampling=True,\n",
        "metrics=[\"loss\", \"roc_auc\", \"precision\", \"recall\", \"ndcg\"]\n",
        ")"
      ],
      "metadata": {
        "id": "7ex2XJXaUtLQ"
      },
      "execution_count": null,
      "outputs": []
    },
    {
      "cell_type": "code",
      "source": [
        "# predict preference of user Fieckaa_E to item Le Meridien Bali\n",
        "Jimbaran - CHSE Certified\n",
        "lightgcn.predict(user=\"Fieckaa_E\", item=100)"
      ],
      "metadata": {
        "id": "ij8lOcP8UvtF"
      },
      "execution_count": null,
      "outputs": []
    },
    {
      "cell_type": "code",
      "source": [
        "# recommend 5 items for user Fieckaa_E\n",
        "lightgcn.recommend_user(user=\"Fieckaa_E\", n_rec=5)"
      ],
      "metadata": {
        "id": "Qh4B9CnFUxYK"
      },
      "execution_count": null,
      "outputs": []
    }
  ]
}